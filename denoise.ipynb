{
 "cells": [
  {
   "cell_type": "code",
   "execution_count": 3,
   "id": "b95e2976-7d6b-4c26-b4a3-c9e200de69d8",
   "metadata": {},
   "outputs": [],
   "source": [
    "import noisereduce as nr\n",
    "import librosa\n",
    "import soundfile as sf\n",
    "\n",
    "y, sr = librosa.load(\"result.wav\", sr=16000)\n",
    "y_denoised = nr.reduce_noise(y=y, sr=sr)\n",
    "sf.write(\"denoised.wav\", y_denoised, sr)"
   ]
  },
  {
   "cell_type": "code",
   "execution_count": 2,
   "id": "d043bc6a-0791-4e1b-a057-597d5d816be6",
   "metadata": {},
   "outputs": [
    {
     "name": "stdout",
     "output_type": "stream",
     "text": [
      "Looking in indexes: https://pypi.yandex-team.ru/simple/\n",
      "Collecting noisereduce\n",
      "  Downloading https://pypi.yandex-team.ru/repo/default/download/noisereduce/1496371/noisereduce-3.0.3-py3-none-any.whl (22 kB)\n",
      "Requirement already satisfied: scipy in ./venv/lib/python3.10/site-packages (from noisereduce) (1.15.1)\n",
      "Requirement already satisfied: matplotlib in ./venv/lib/python3.10/site-packages (from noisereduce) (3.10.0)\n",
      "Requirement already satisfied: numpy in ./venv/lib/python3.10/site-packages (from noisereduce) (1.26.4)\n",
      "Requirement already satisfied: tqdm in ./venv/lib/python3.10/site-packages (from noisereduce) (4.67.1)\n",
      "Requirement already satisfied: joblib in ./venv/lib/python3.10/site-packages (from noisereduce) (1.4.2)\n",
      "Requirement already satisfied: contourpy>=1.0.1 in ./venv/lib/python3.10/site-packages (from matplotlib->noisereduce) (1.3.1)\n",
      "Requirement already satisfied: cycler>=0.10 in ./venv/lib/python3.10/site-packages (from matplotlib->noisereduce) (0.12.1)\n",
      "Requirement already satisfied: fonttools>=4.22.0 in ./venv/lib/python3.10/site-packages (from matplotlib->noisereduce) (4.55.3)\n",
      "Requirement already satisfied: kiwisolver>=1.3.1 in ./venv/lib/python3.10/site-packages (from matplotlib->noisereduce) (1.4.8)\n",
      "Requirement already satisfied: packaging>=20.0 in ./venv/lib/python3.10/site-packages (from matplotlib->noisereduce) (24.2)\n",
      "Requirement already satisfied: pillow>=8 in ./venv/lib/python3.10/site-packages (from matplotlib->noisereduce) (11.1.0)\n",
      "Requirement already satisfied: pyparsing>=2.3.1 in ./venv/lib/python3.10/site-packages (from matplotlib->noisereduce) (3.2.1)\n",
      "Requirement already satisfied: python-dateutil>=2.7 in ./venv/lib/python3.10/site-packages (from matplotlib->noisereduce) (2.9.0.post0)\n",
      "Requirement already satisfied: six>=1.5 in ./venv/lib/python3.10/site-packages (from python-dateutil>=2.7->matplotlib->noisereduce) (1.17.0)\n",
      "Installing collected packages: noisereduce\n",
      "Successfully installed noisereduce-3.0.3\n",
      "\n",
      "\u001b[1m[\u001b[0m\u001b[34;49mnotice\u001b[0m\u001b[1;39;49m]\u001b[0m\u001b[39;49m A new release of pip is available: \u001b[0m\u001b[31;49m24.3.1\u001b[0m\u001b[39;49m -> \u001b[0m\u001b[32;49m25.0.1\u001b[0m\n",
      "\u001b[1m[\u001b[0m\u001b[34;49mnotice\u001b[0m\u001b[1;39;49m]\u001b[0m\u001b[39;49m To update, run: \u001b[0m\u001b[32;49mpip install --upgrade pip\u001b[0m\n"
     ]
    }
   ],
   "source": [
    "!pip install noisereduce"
   ]
  }
 ],
 "metadata": {
  "kernelspec": {
   "display_name": "Python 3 (ipykernel)",
   "language": "python",
   "name": "python3"
  },
  "language_info": {
   "codemirror_mode": {
    "name": "ipython",
    "version": 3
   },
   "file_extension": ".py",
   "mimetype": "text/x-python",
   "name": "python",
   "nbconvert_exporter": "python",
   "pygments_lexer": "ipython3",
   "version": "3.10.12"
  }
 },
 "nbformat": 4,
 "nbformat_minor": 5
}
